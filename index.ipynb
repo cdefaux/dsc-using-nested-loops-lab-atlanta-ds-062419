{
 "cells": [
  {
   "cell_type": "markdown",
   "metadata": {},
   "source": [
    "# Using Nested Loops - Lab"
   ]
  },
  {
   "cell_type": "markdown",
   "metadata": {},
   "source": [
    "## Introduction\n",
    "In this lab, you'll practice using nested loops to iterate over nested data structures and create new collections. To do this, you'll be using data from a soccer match to practice our nested loops."
   ]
  },
  {
   "cell_type": "markdown",
   "metadata": {},
   "source": [
    "## Objectives\n",
    "You will be able to:\n",
    "* Combine different types of loops\n",
    "* Understand, explain and use nested loops to iterate through nested data structures"
   ]
  },
  {
   "cell_type": "markdown",
   "metadata": {},
   "source": [
    "## Instructions"
   ]
  },
  {
   "cell_type": "markdown",
   "metadata": {},
   "source": [
    "Use nested loops and the below object, `soccer_match`, to complete the following prompts and get the desired return values.\n",
    "\n",
    "Each object's structure is identical, but make sure to have a good idea of what that structure looks like before getting started. "
   ]
  },
  {
   "cell_type": "code",
   "execution_count": 1,
   "metadata": {},
   "outputs": [],
   "source": [
    "soccer_match = [\n",
    "  { \"home_team\": True,\n",
    "    \"away_team\": False,\n",
    "    \"country\": \"France\",\n",
    "    \"num_passes\": 484,\n",
    "    \"passes_completed\": 423,\n",
    "    \"fouls_committed\": 16,\n",
    "    \"colors\": [\"blue\", \"white\", \"red\"],\n",
    "    \"players\": [\n",
    "      {\n",
    "        \"name\": \"Hugo LLORIS\",\n",
    "        \"captain\": True,\n",
    "        \"shirt_number\": 1,\n",
    "        \"position\": \"Goalie\"\n",
    "      },\n",
    "      {\n",
    "        \"name\": \"Benjamin PAVARD\",\n",
    "        \"captain\": False,\n",
    "        \"shirt_number\": 2,\n",
    "        \"position\": \"Defender\"\n",
    "      },\n",
    "      {\n",
    "        \"name\": \"Raphael VARANE\",\n",
    "        \"captain\": False,\n",
    "        \"shirt_number\": 4,\n",
    "        \"position\": \"Defender\"\n",
    "      },\n",
    "      {\n",
    "        \"name\": \"Samuel UMTITI\",\n",
    "        \"captain\": False,\n",
    "        \"shirt_number\": 5,\n",
    "        \"position\": \"Defender\"\n",
    "      },\n",
    "      {\n",
    "        \"name\": \"Paul POGBA\",\n",
    "        \"captain\": False,\n",
    "        \"shirt_number\": 6,\n",
    "        \"position\": \"Midfield\"\n",
    "      },\n",
    "      {\n",
    "        \"name\": \"Antoine GRIEZMANN\",\n",
    "        \"captain\": False,\n",
    "        \"shirt_number\": 7,\n",
    "        \"position\": \"Forward\"\n",
    "      },\n",
    "      {\n",
    "        \"name\": \"Kylian MBAPPE\",\n",
    "        \"captain\": False,\n",
    "        \"shirt_number\": 10,\n",
    "        \"position\": \"Forward\"\n",
    "      },\n",
    "      {\n",
    "        \"name\": \"Ousmane DEMBELE\",\n",
    "        \"captain\": False,\n",
    "        \"shirt_number\": 11,\n",
    "        \"position\": \"Forward\"\n",
    "      },\n",
    "      {\n",
    "        \"name\": \"Corentin TOLISSO\",\n",
    "        \"captain\": False,\n",
    "        \"shirt_number\": 12,\n",
    "        \"position\": \"Midfield\"\n",
    "      },\n",
    "      {\n",
    "        \"name\": \"Ngolo KANTE\",\n",
    "        \"captain\": False,\n",
    "        \"shirt_number\": 13,\n",
    "        \"position\": \"Midfield\"\n",
    "      },\n",
    "      {\n",
    "        \"name\": \"Lucas HERNANDEZ\",\n",
    "        \"captain\": False,\n",
    "        \"shirt_number\": 21,\n",
    "        \"position\": \"Defender\"\n",
    "      }\n",
    "    ],\n",
    "  },\n",
    "  { \"home_team\": False,\n",
    "    \"away_team\": True,\n",
    "    \"country\": \"Australia\",\n",
    "    \"num_passes\": 390,\n",
    "    \"passes_completed\": 332,\n",
    "    \"fouls_committed\": 19,\n",
    "    \"colors\": [\"green\", \"gold\"],\n",
    "    \"players\": [\n",
    "      {\n",
    "        \"name\": \"Mathew RYAN\",\n",
    "        \"captain\": False,\n",
    "        \"shirt_number\": 1,\n",
    "        \"position\": \"Goalie\"\n",
    "      },\n",
    "      {\n",
    "        \"name\": \"Mark MILLIGAN\",\n",
    "        \"captain\": False,\n",
    "        \"shirt_number\": 5,\n",
    "        \"position\": \"Defender\"\n",
    "      },\n",
    "      {\n",
    "        \"name\": \"Mathew LECKIE\",\n",
    "        \"captain\": False,\n",
    "        \"shirt_number\": 7,\n",
    "        \"position\": \"Forward\"\n",
    "      },\n",
    "      {\n",
    "        \"name\": \"Robbie KRUSE\",\n",
    "        \"captain\": False,\n",
    "        \"shirt_number\": 10,\n",
    "        \"position\": \"Forward\"\n",
    "      },\n",
    "      {\n",
    "        \"name\": \"Andrew NABBOUT\",\n",
    "        \"captain\": False,\n",
    "        \"shirt_number\": 11,\n",
    "        \"position\": \"Forward\"\n",
    "      },\n",
    "      {\n",
    "        \"name\": \"Aaron MOOY\",\n",
    "        \"captain\": False,\n",
    "        \"shirt_number\": 13,\n",
    "        \"position\": \"Midfield\"\n",
    "      },\n",
    "      {\n",
    "        \"name\": \"Mile JEDINAK\",\n",
    "        \"captain\": True,\n",
    "        \"shirt_number\": 15,\n",
    "        \"position\": \"Midfield\"\n",
    "      },\n",
    "      {\n",
    "        \"name\": \"Aziz BEHICH\",\n",
    "        \"captain\": False,\n",
    "        \"shirt_number\": 16,\n",
    "        \"position\": \"Defender\"\n",
    "      },\n",
    "      {\n",
    "        \"name\": \"Joshua RISDON\",\n",
    "        \"captain\": False,\n",
    "        \"shirt_number\": 19,\n",
    "        \"position\": \"Defender\"\n",
    "      },\n",
    "      {\n",
    "        \"name\": \"Trent SAINSBURY\",\n",
    "        \"captain\": False,\n",
    "        \"shirt_number\": 20,\n",
    "        \"position\": \"Defender\"\n",
    "      },\n",
    "      {\n",
    "        \"name\": \"Tom ROGIC\",\n",
    "        \"captain\": False,\n",
    "        \"shirt_number\": 23,\n",
    "        \"position\": \"Midfield\"\n",
    "      }\n",
    "    ]\n",
    "  }\n",
    "]"
   ]
  },
  {
   "cell_type": "markdown",
   "metadata": {},
   "source": [
    "## Countries: A list of strings\n",
    "\n",
    "In the cell below, iterate over the soccer_match list to create a new list with the name of the country for each team"
   ]
  },
  {
   "cell_type": "code",
   "execution_count": 19,
   "metadata": {},
   "outputs": [
    {
     "name": "stdout",
     "output_type": "stream",
     "text": [
      "['F', 'r', 'a', 'n', 'c', 'e', 'A', 'u', 's', 't', 'r', 'a', 'l', 'i', 'a']\n"
     ]
    }
   ],
   "source": [
    "# iterate over the soccer_match list to create a new list with the name of the country for each team\n",
    "countrieslist = []\n",
    "for countries in soccer_match:\n",
    "    for country in countries['country']:\n",
    "        countrieslist.append(country)\n",
    "print(countrieslist)\n",
    "        \n",
    "        \n",
    "               \n",
    "               \n",
    "               "
   ]
  },
  {
   "cell_type": "markdown",
   "metadata": {},
   "source": [
    "## Colors: Another list of strings!\n",
    "\n",
    "In the cell below, iterate over the soccer_match list to create a new list with the colors for each team this should be only one list containing strings for each of the country's colors."
   ]
  },
  {
   "cell_type": "code",
   "execution_count": 5,
   "metadata": {},
   "outputs": [
    {
     "name": "stdout",
     "output_type": "stream",
     "text": [
      "['blue', 'white', 'red', 'green', 'gold']\n"
     ]
    }
   ],
   "source": [
    "# iterate over the soccer_match list to create a new list with the colors for each team\n",
    "# this should be only one list containing strings for each of the country's colors\n",
    "colorslist = []\n",
    "for colours in soccer_match:\n",
    "    for colour in colours['colors']:\n",
    "        colorslist.append(colour)\n",
    "print(colorslist)\n",
    "\n",
    "\n",
    "# code goes here"
   ]
  },
  {
   "cell_type": "markdown",
   "metadata": {},
   "source": [
    "## Players: A list of dictionaries\n",
    "\n",
    "This time, iterate over the soccer_match list to create a new list with the players from each team. `players` should be a single list containing the dictionaries for each of the country's players."
   ]
  },
  {
   "cell_type": "code",
   "execution_count": 9,
   "metadata": {},
   "outputs": [
    {
     "name": "stdout",
     "output_type": "stream",
     "text": [
      "['H', 'u', 'g', 'o', ' ', 'L', 'L', 'O', 'R', 'I', 'S', 'B', 'e', 'n', 'j', 'a', 'm', 'i', 'n', ' ', 'P', 'A', 'V', 'A', 'R', 'D', 'R', 'a', 'p', 'h', 'a', 'e', 'l', ' ', 'V', 'A', 'R', 'A', 'N', 'E', 'S', 'a', 'm', 'u', 'e', 'l', ' ', 'U', 'M', 'T', 'I', 'T', 'I', 'P', 'a', 'u', 'l', ' ', 'P', 'O', 'G', 'B', 'A', 'A', 'n', 't', 'o', 'i', 'n', 'e', ' ', 'G', 'R', 'I', 'E', 'Z', 'M', 'A', 'N', 'N', 'K', 'y', 'l', 'i', 'a', 'n', ' ', 'M', 'B', 'A', 'P', 'P', 'E', 'O', 'u', 's', 'm', 'a', 'n', 'e', ' ', 'D', 'E', 'M', 'B', 'E', 'L', 'E', 'C', 'o', 'r', 'e', 'n', 't', 'i', 'n', ' ', 'T', 'O', 'L', 'I', 'S', 'S', 'O', 'N', 'g', 'o', 'l', 'o', ' ', 'K', 'A', 'N', 'T', 'E', 'L', 'u', 'c', 'a', 's', ' ', 'H', 'E', 'R', 'N', 'A', 'N', 'D', 'E', 'Z', 'M', 'a', 't', 'h', 'e', 'w', ' ', 'R', 'Y', 'A', 'N', 'M', 'a', 'r', 'k', ' ', 'M', 'I', 'L', 'L', 'I', 'G', 'A', 'N', 'M', 'a', 't', 'h', 'e', 'w', ' ', 'L', 'E', 'C', 'K', 'I', 'E', 'R', 'o', 'b', 'b', 'i', 'e', ' ', 'K', 'R', 'U', 'S', 'E', 'A', 'n', 'd', 'r', 'e', 'w', ' ', 'N', 'A', 'B', 'B', 'O', 'U', 'T', 'A', 'a', 'r', 'o', 'n', ' ', 'M', 'O', 'O', 'Y', 'M', 'i', 'l', 'e', ' ', 'J', 'E', 'D', 'I', 'N', 'A', 'K', 'A', 'z', 'i', 'z', ' ', 'B', 'E', 'H', 'I', 'C', 'H', 'J', 'o', 's', 'h', 'u', 'a', ' ', 'R', 'I', 'S', 'D', 'O', 'N', 'T', 'r', 'e', 'n', 't', ' ', 'S', 'A', 'I', 'N', 'S', 'B', 'U', 'R', 'Y', 'T', 'o', 'm', ' ', 'R', 'O', 'G', 'I', 'C']\n"
     ]
    }
   ],
   "source": [
    "playerslist = []\n",
    "for teams in soccer_match:\n",
    "    for players in teams['players']:\n",
    "        for names in players['name']:\n",
    "            playerslist.append(names)\n",
    "print(playerslist)"
   ]
  },
  {
   "cell_type": "markdown",
   "metadata": {},
   "source": [
    "## Captains: Another list of dictionaries!\n",
    "\n",
    "Iterate over the soccer_match list to create a new list with the captains from each team.\n",
    "This should be a single list containing the dictionaries for each of the country's captains."
   ]
  },
  {
   "cell_type": "code",
   "execution_count": 17,
   "metadata": {},
   "outputs": [
    {
     "name": "stdout",
     "output_type": "stream",
     "text": [
      "['Hugo LLORIS', 'Mile JEDINAK']\n"
     ]
    }
   ],
   "source": [
    "captains = []\n",
    "\n",
    "for countries in soccer_match:\n",
    "    for players in countries['players']:\n",
    "        if players['captain'] == True:\n",
    "            captains.append(players['name'])\n",
    "print(captains)"
   ]
  },
  {
   "cell_type": "markdown",
   "metadata": {},
   "source": [
    "## Home Team Players: A third list of dictionaries.\n",
    "\n",
    "Iterate over the soccer_match list to create a new list with the players from ONLY the home team."
   ]
  },
  {
   "cell_type": "code",
   "execution_count": 23,
   "metadata": {},
   "outputs": [
    {
     "name": "stdout",
     "output_type": "stream",
     "text": [
      "['Hugo LLORIS', 'Benjamin PAVARD', 'Raphael VARANE', 'Samuel UMTITI', 'Paul POGBA', 'Antoine GRIEZMANN', 'Kylian MBAPPE', 'Ousmane DEMBELE', 'Corentin TOLISSO', 'Ngolo KANTE', 'Lucas HERNANDEZ']\n"
     ]
    }
   ],
   "source": [
    "home_team_players = []\n",
    "for countries in soccer_match:\n",
    "    if countries['home_team'] == True:\n",
    "        for players in countries['players']:\n",
    "            home_team_players.append(players['name'])\n",
    "print(home_team_players)"
   ]
  },
  {
   "cell_type": "markdown",
   "metadata": {},
   "source": [
    "## Away Team Forwards: Yup, a list of dictionaries.\n",
    "\n",
    "Iterate over the soccer_match list to create a new list with the information for each of the away team players whose `position` is `\"Forward\"`."
   ]
  },
  {
   "cell_type": "code",
   "execution_count": 25,
   "metadata": {},
   "outputs": [
    {
     "name": "stdout",
     "output_type": "stream",
     "text": [
      "[['Mathew LECKIE'], ['Robbie KRUSE'], ['Andrew NABBOUT']]\n"
     ]
    }
   ],
   "source": [
    "away_team_forwards = []\n",
    "for countries in soccer_match:\n",
    "    if countries['home_team'] == False:\n",
    "        for players in countries['players']:\n",
    "            if players['position'] == \"Forward\":\n",
    "                away_team_forwards.append([players['name']])\n",
    "print(away_team_forwards)"
   ]
  },
  {
   "cell_type": "markdown",
   "metadata": {},
   "source": [
    "## Player with the Highest Number\n",
    "\n",
    "Iterate over the soccer_match list and find the player with the highest shirt_number.  \n",
    "Store this player's information in the `player_with_highest_num` variable."
   ]
  },
  {
   "cell_type": "code",
   "execution_count": null,
   "metadata": {},
   "outputs": [],
   "source": [
    "player_with_highest_num = []\n",
    "for countries in soccer_match:\n",
    "    for players in countries['players']:\n",
    "        "
   ]
  },
  {
   "cell_type": "markdown",
   "metadata": {},
   "source": [
    "## Player Names: A Cleaned List\n",
    "\n",
    "Notice that the players oddly have have their last name's in all caps. Create a list of all the names of the players in this match. Be sure to make sure their first and last names are properly capitalized (first letter upper case, proceeding letters lower case), as opposed to how they are currently formatted."
   ]
  },
  {
   "cell_type": "code",
   "execution_count": 30,
   "metadata": {},
   "outputs": [
    {
     "name": "stdout",
     "output_type": "stream",
     "text": [
      "['Hugo LLORIS', 'Benjamin PAVARD', 'Raphael VARANE', 'Samuel UMTITI', 'Paul POGBA', 'Antoine GRIEZMANN', 'Kylian MBAPPE', 'Ousmane DEMBELE', 'Corentin TOLISSO', 'Ngolo KANTE', 'Lucas HERNANDEZ', 'Mathew RYAN', 'Mark MILLIGAN', 'Mathew LECKIE', 'Robbie KRUSE', 'Andrew NABBOUT', 'Aaron MOOY', 'Mile JEDINAK', 'Aziz BEHICH', 'Joshua RISDON', 'Trent SAINSBURY', 'Tom ROGIC']\n"
     ]
    }
   ],
   "source": [
    "player_names = []\n",
    "for countries in soccer_match:\n",
    "    for players in countries['players']:\n",
    "        players['name'].title()\n",
    "        player_names.append(players['name'])\n",
    "        \n",
    "print(player_names)"
   ]
  },
  {
   "cell_type": "markdown",
   "metadata": {},
   "source": [
    "## Summary"
   ]
  },
  {
   "cell_type": "markdown",
   "metadata": {},
   "source": [
    "In this lab, you practiced using nested loops to iterate through a nested data structure using data from a soccer match. Nested data structures can be quite complicated and it can become difficult to access more nested data. With nested loops, you are able to dynamically access this nested data and work with it as you would with a flatter data structure. It is important to think about the structure of the data before and while you're working so you know exactly what data you are working with at each level."
   ]
  }
 ],
 "metadata": {
  "kernelspec": {
   "display_name": "Python 3",
   "language": "python",
   "name": "python3"
  },
  "language_info": {
   "codemirror_mode": {
    "name": "ipython",
    "version": 3
   },
   "file_extension": ".py",
   "mimetype": "text/x-python",
   "name": "python",
   "nbconvert_exporter": "python",
   "pygments_lexer": "ipython3",
   "version": "3.6.6"
  }
 },
 "nbformat": 4,
 "nbformat_minor": 2
}
